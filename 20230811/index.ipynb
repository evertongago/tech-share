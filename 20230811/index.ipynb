{
 "cells": [
  {
   "cell_type": "markdown",
   "id": "93788089-dd90-4915-82d4-7fe97ebf097c",
   "metadata": {},
   "source": [
    "# Tech Hub"
   ]
  },
  {
   "cell_type": "markdown",
   "id": "a043245f-5d9d-46d2-b88a-630cf7da631c",
   "metadata": {},
   "source": [
    "<div style=\"text-align:justify\">\n",
    "This repo introduces the basics of how to use Large Language Models (LLMs).\n",
    "</div>"
   ]
  },
  {
   "cell_type": "markdown",
   "id": "4f1e11b5-7c23-49c8-b5e6-166f5b4b6f5a",
   "metadata": {},
   "source": [
    "#### Environment: Jupyter Notebook"
   ]
  },
  {
   "cell_type": "markdown",
   "id": "bb070024-8a63-4527-a2da-c1e7a94996f6",
   "metadata": {},
   "source": [
    "<div style=\"text-align:justify\">\n",
    "In the vast landscape of modern data analysis, visualization, and scientific research, Jupyter Notebook emerges as a quintessential tool for professionals and enthusiasts alike. Originating from the IPython project in 2014, Jupyter Notebook stands for \"Julia, Python, and R\", reflecting its wide-ranging support for various programming languages. It is an open-source, web-based interactive environment that allows users to create and share documents containing live code, equations, visualizations, and narrative text.\n",
    "<br><br>\n",
    "The power of Jupyter Notebooks is in its interactive nature. Users can write and execute code in a step-by-step manner, immediately observing results, making it a valuable tool for data exploration and iterative development. This dynamic capability facilitates teaching, experimentations, data cleaning and transformation, statistical modeling, machine learning, and much more.\n",
    "<br><br>\n",
    "Beyond its immediate execution, Jupyter Notebooks have a rich display system. With support for a multitude of output formats, from standard texts and images to HTML, LaTeX, and even interactive widgets, it enables the creation of comprehensive reports and documentation.\n",
    "</div>"
   ]
  },
  {
   "cell_type": "markdown",
   "id": "2ca02ffa-f97d-4602-8655-b91f44df8ba9",
   "metadata": {},
   "source": [
    "#### Topics"
   ]
  },
  {
   "cell_type": "markdown",
   "id": "9ee63c3a-a374-40f3-a89a-f1d62113fc46",
   "metadata": {},
   "source": [
    "- [Information retrieval](basics-retrieval.ipynb)\n",
    "- [Langchain basics](basics-langchain.ipynb)\n",
    "- [Information indexing](indexing.ipynb)\n",
    "- [Search and generative engine](search-generative-engine.ipynb)"
   ]
  }
 ],
 "metadata": {
  "kernelspec": {
   "display_name": "Python 3 (ipykernel)",
   "language": "python",
   "name": "python3"
  },
  "language_info": {
   "codemirror_mode": {
    "name": "ipython",
    "version": 3
   },
   "file_extension": ".py",
   "mimetype": "text/x-python",
   "name": "python",
   "nbconvert_exporter": "python",
   "pygments_lexer": "ipython3",
   "version": "3.9.17"
  }
 },
 "nbformat": 4,
 "nbformat_minor": 5
}
