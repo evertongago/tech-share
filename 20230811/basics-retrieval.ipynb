{
 "cells": [
  {
   "cell_type": "markdown",
   "id": "2a36a522-dc3d-44eb-972a-912055a44c55",
   "metadata": {},
   "source": [
    "# Information Retrieval"
   ]
  },
  {
   "cell_type": "markdown",
   "id": "a7dbd336-5dcd-41f2-b110-2c88cc8d532c",
   "metadata": {},
   "source": [
    "<div style=\"text-align:justify\">\n",
    "Information Retrieval (IR) is a computer science field that deals with finding valuable information from large data collections. It involves users submitting queries, and systems ranking and retrieving relevant documents using indexing, ranking models, and user feedback. Challenges include dealing with vast data, user intent, and multilingual content. IR has applications in search engines, libraries, and more, helping users access and utilize information effectively.\n",
    "</div>"
   ]
  },
  {
   "cell_type": "markdown",
   "id": "5bbde8ff-a561-481c-a1d8-023f8a1eb16d",
   "metadata": {},
   "source": [
    "#### Dependencies"
   ]
  },
  {
   "cell_type": "code",
   "execution_count": 1,
   "id": "11d7589b-7bf7-4793-9fa9-921cc26bbc0b",
   "metadata": {},
   "outputs": [],
   "source": [
    "import string, numpy\n",
    "from numpy.linalg import norm"
   ]
  },
  {
   "cell_type": "markdown",
   "id": "7ee1d833-b139-4a51-aab2-8e170f505eaa",
   "metadata": {},
   "source": [
    "#### Documents"
   ]
  },
  {
   "cell_type": "code",
   "execution_count": 2,
   "id": "fbc5d0d5-258e-4712-a45e-75c4015d8a3e",
   "metadata": {},
   "outputs": [
    {
     "data": {
      "text/plain": [
       "['I love machine learning.',\n",
       " 'The weather is great today.',\n",
       " 'Machine learning is fun.',\n",
       " 'I enjoy learning new things.']"
      ]
     },
     "execution_count": 2,
     "metadata": {},
     "output_type": "execute_result"
    }
   ],
   "source": [
    "docs = [\n",
    "    'I love machine learning.',\n",
    "    'The weather is great today.',\n",
    "    'Machine learning is fun.',\n",
    "    'I enjoy learning new things.'\n",
    "]\n",
    "\n",
    "docs"
   ]
  },
  {
   "cell_type": "markdown",
   "id": "c3bb0244-eba0-44d9-a6d8-2e6ea20194c5",
   "metadata": {},
   "source": [
    "#### Pre-processing"
   ]
  },
  {
   "cell_type": "code",
   "execution_count": 3,
   "id": "97fa5932-d883-4205-adb6-ea7b7ffef0ac",
   "metadata": {},
   "outputs": [
    {
     "name": "stdout",
     "output_type": "stream",
     "text": [
      "{'things', 'weather', 'machine', 'is', 'today', 'new', 'enjoy', 'love', 'learning', 'i', 'fun', 'the', 'great'}\n"
     ]
    }
   ],
   "source": [
    "processed_docs = [''.join([char for char in doc if char not in string.punctuation]).lower() for doc in docs]\n",
    "tokens = [doc.split() for doc in processed_docs]\n",
    "all_words = set([word for token in tokens for word in token])\n",
    "\n",
    "print(all_words)"
   ]
  },
  {
   "cell_type": "markdown",
   "id": "f003297f-0240-4aa5-af20-32890e33b1bd",
   "metadata": {},
   "source": [
    "#### One-hot Enconding"
   ]
  },
  {
   "cell_type": "code",
   "execution_count": 4,
   "id": "2a54c2db-51aa-45cf-8456-6d53dc5f0f6f",
   "metadata": {},
   "outputs": [],
   "source": [
    "def one_hot_encode(doc):\n",
    "    encoding = [0] * len(all_words)  # Initialize a zero-vector with length = total unique words\n",
    "    for word in doc:\n",
    "        if word in all_words:\n",
    "            encoding[list(all_words).index(word)] = 1\n",
    "    return encoding"
   ]
  },
  {
   "cell_type": "markdown",
   "id": "54940769-bd6b-412d-855d-d3abe2e8a4c7",
   "metadata": {},
   "source": [
    "#### Search Engine"
   ]
  },
  {
   "cell_type": "markdown",
   "id": "26d98f27-73fd-4a6c-8097-111d1f9c1f36",
   "metadata": {},
   "source": [
    "<div style=\"text-align:justify\">\n",
    "Search engine techniques range from simple keyword-based approaches to more complex methods. Simple techniques involve matching keywords or using boolean operators. More advanced techniques include vector space models, probabilistic models, and latent semantic analysis. Modern approaches involve machine learning, NLP, semantic understanding, neural networks, cross-modal search, and entity-driven search. These techniques progressively enhance the search engine's ability to understand user intent and retrieve relevant information from diverse sources.\n",
    "<br><br>\n",
    "We will introduce the most straightforward method, which employs a vector-based approach, to locate documents based on a given query.\n",
    "</div>"
   ]
  },
  {
   "cell_type": "code",
   "execution_count": 5,
   "id": "9f4bd2c0-fd3a-47d4-b917-2ec058a65170",
   "metadata": {},
   "outputs": [],
   "source": [
    "def search(A, B):\n",
    "    return numpy.dot(A, B) / (norm(A) * norm(B))"
   ]
  },
  {
   "cell_type": "markdown",
   "id": "24dcbe19-1292-42e5-80c8-1f0fde10a03a",
   "metadata": {},
   "source": [
    "#### Encoding Documents"
   ]
  },
  {
   "cell_type": "code",
   "execution_count": 6,
   "id": "6ececb30-a347-47e6-9f80-32b6f87ebe55",
   "metadata": {},
   "outputs": [
    {
     "data": {
      "text/plain": [
       "[[0, 0, 1, 0, 0, 0, 0, 1, 1, 1, 0, 0, 0],\n",
       " [0, 1, 0, 1, 1, 0, 0, 0, 0, 0, 0, 1, 1],\n",
       " [0, 0, 1, 1, 0, 0, 0, 0, 1, 0, 1, 0, 0],\n",
       " [1, 0, 0, 0, 0, 1, 1, 0, 1, 1, 0, 0, 0]]"
      ]
     },
     "execution_count": 6,
     "metadata": {},
     "output_type": "execute_result"
    }
   ],
   "source": [
    "encoded_docs = [one_hot_encode(doc) for doc in tokens]\n",
    "encoded_docs"
   ]
  },
  {
   "cell_type": "markdown",
   "id": "155a8f60-7d2d-4a3b-b4be-2fd05d89836e",
   "metadata": {},
   "source": [
    "#### Query"
   ]
  },
  {
   "cell_type": "code",
   "execution_count": 7,
   "id": "fa46c2be-115a-4df6-885a-1ced541c2bbe",
   "metadata": {},
   "outputs": [
    {
     "data": {
      "text/plain": [
       "[0, 0, 1, 0, 0, 0, 0, 0, 1, 0, 0, 0, 0]"
      ]
     },
     "execution_count": 7,
     "metadata": {},
     "output_type": "execute_result"
    }
   ],
   "source": [
    "query = 'machine learning'\n",
    "processed_query = ''.join([char for char in query if char not in string.punctuation]).lower()\n",
    "query = one_hot_encode(processed_query.split())\n",
    "\n",
    "query"
   ]
  },
  {
   "cell_type": "markdown",
   "id": "d4f68c04-dc2c-43a5-b43c-0f4960088e10",
   "metadata": {},
   "source": [
    "#### Ranking"
   ]
  },
  {
   "cell_type": "code",
   "execution_count": 8,
   "id": "53e22f5e-83c7-4dbc-9871-ab424987bce2",
   "metadata": {},
   "outputs": [
    {
     "name": "stdout",
     "output_type": "stream",
     "text": [
      "Documents matching the query:\n",
      "- I love machine learning.\n",
      "- Machine learning is fun.\n"
     ]
    }
   ],
   "source": [
    "scores = [search(query, doc) for doc in encoded_docs]\n",
    "\n",
    "threshold = 0.5\n",
    "matched_docs = [docs[i] for i, score in enumerate(scores) if score >= threshold]\n",
    "\n",
    "print('Documents matching the query:')\n",
    "for doc in matched_docs:\n",
    "    print(\"-\", doc)"
   ]
  },
  {
   "cell_type": "code",
   "execution_count": null,
   "id": "16a18782-d890-470c-8b1e-7406046d488e",
   "metadata": {},
   "outputs": [],
   "source": []
  }
 ],
 "metadata": {
  "kernelspec": {
   "display_name": "Python 3 (ipykernel)",
   "language": "python",
   "name": "python3"
  },
  "language_info": {
   "codemirror_mode": {
    "name": "ipython",
    "version": 3
   },
   "file_extension": ".py",
   "mimetype": "text/x-python",
   "name": "python",
   "nbconvert_exporter": "python",
   "pygments_lexer": "ipython3",
   "version": "3.9.17"
  }
 },
 "nbformat": 4,
 "nbformat_minor": 5
}
